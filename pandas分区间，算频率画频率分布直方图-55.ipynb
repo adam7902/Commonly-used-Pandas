{
 "cells": [
  {
   "cell_type": "code",
   "execution_count": null,
   "metadata": {
    "collapsed": true
   },
   "outputs": [],
   "source": []
  },
  {
   "cell_type": "markdown",
   "metadata": {},
   "source": [
    "pandas分区间，算频率\n",
    "\n",
    "https://blog.csdn.net/castingA3T/article/details/79075240"
   ]
  },
  {
   "cell_type": "code",
   "execution_count": 1,
   "metadata": {
    "ExecuteTime": {
     "end_time": "2019-04-01T12:11:34.430809Z",
     "start_time": "2019-04-01T12:11:34.052809Z"
    },
    "collapsed": true
   },
   "outputs": [],
   "source": [
    "import pandas as pd\n",
    "path='./catering_fish_congee.xls'\n",
    "data=pd.read_excel(path,header=None,index_col=0)\n",
    "data.index.name='日期'\n",
    "data.columns=['销售额(元)']"
   ]
  },
  {
   "cell_type": "code",
   "execution_count": 8,
   "metadata": {
    "ExecuteTime": {
     "end_time": "2019-04-01T12:15:23.187809Z",
     "start_time": "2019-04-01T12:15:23.168809Z"
    }
   },
   "outputs": [
    {
     "data": {
      "text/html": [
       "<div>\n",
       "<style scoped>\n",
       "    .dataframe tbody tr th:only-of-type {\n",
       "        vertical-align: middle;\n",
       "    }\n",
       "\n",
       "    .dataframe tbody tr th {\n",
       "        vertical-align: top;\n",
       "    }\n",
       "\n",
       "    .dataframe thead th {\n",
       "        text-align: right;\n",
       "    }\n",
       "</style>\n",
       "<table border=\"1\" class=\"dataframe\">\n",
       "  <thead>\n",
       "    <tr style=\"text-align: right;\">\n",
       "      <th></th>\n",
       "      <th>销售额(元)</th>\n",
       "      <th>区间</th>\n",
       "    </tr>\n",
       "    <tr>\n",
       "      <th>日期</th>\n",
       "      <th></th>\n",
       "      <th></th>\n",
       "    </tr>\n",
       "  </thead>\n",
       "  <tbody>\n",
       "    <tr>\n",
       "      <th>2014-04-01</th>\n",
       "      <td>420</td>\n",
       "      <td>[0, 500)</td>\n",
       "    </tr>\n",
       "    <tr>\n",
       "      <th>2014-04-02</th>\n",
       "      <td>900</td>\n",
       "      <td>[500, 1000)</td>\n",
       "    </tr>\n",
       "    <tr>\n",
       "      <th>2014-04-03</th>\n",
       "      <td>1290</td>\n",
       "      <td>[1000, 1500)</td>\n",
       "    </tr>\n",
       "    <tr>\n",
       "      <th>2014-04-04</th>\n",
       "      <td>420</td>\n",
       "      <td>[0, 500)</td>\n",
       "    </tr>\n",
       "    <tr>\n",
       "      <th>2014-04-05</th>\n",
       "      <td>1710</td>\n",
       "      <td>[1500, 2000)</td>\n",
       "    </tr>\n",
       "  </tbody>\n",
       "</table>\n",
       "</div>"
      ],
      "text/plain": [
       "            销售额(元)            区间\n",
       "日期                              \n",
       "2014-04-01     420      [0, 500)\n",
       "2014-04-02     900   [500, 1000)\n",
       "2014-04-03    1290  [1000, 1500)\n",
       "2014-04-04     420      [0, 500)\n",
       "2014-04-05    1710  [1500, 2000)"
      ]
     },
     "execution_count": 8,
     "metadata": {},
     "output_type": "execute_result"
    }
   ],
   "source": [
    "data.head()"
   ]
  },
  {
   "cell_type": "code",
   "execution_count": 2,
   "metadata": {
    "ExecuteTime": {
     "end_time": "2019-04-01T12:11:35.154809Z",
     "start_time": "2019-04-01T12:11:35.139809Z"
    }
   },
   "outputs": [
    {
     "name": "stdout",
     "output_type": "stream",
     "text": [
      "3960\n",
      "45\n",
      "3915\n"
     ]
    }
   ],
   "source": [
    " xse=data['销售额(元)']\n",
    "print(xse.max())\n",
    "print(xse.min())\n",
    "print(xse.max()-xse.min())"
   ]
  },
  {
   "cell_type": "code",
   "execution_count": null,
   "metadata": {
    "collapsed": true
   },
   "outputs": [],
   "source": [
    "fanwei=list(range(0,4500,500))\n",
    "fenzu=pd.cut(xse.values,fanwei,right=False)#分组区间,长度91"
   ]
  },
  {
   "cell_type": "code",
   "execution_count": 10,
   "metadata": {
    "ExecuteTime": {
     "end_time": "2019-04-01T12:17:58.411809Z",
     "start_time": "2019-04-01T12:17:58.398809Z"
    }
   },
   "outputs": [
    {
     "data": {
      "text/plain": [
       "[[0, 500), [500, 1000), [1000, 1500), [0, 500), [1500, 2000), ..., [500, 1000), [500, 1000), [1000, 1500), [1000, 1500), [2500, 3000)]\n",
       "Length: 91\n",
       "Categories (8, interval[int64]): [[0, 500) < [500, 1000) < [1000, 1500) < [1500, 2000) < [2000, 2500) < [2500, 3000) < [3000, 3500) < [3500, 4000)]"
      ]
     },
     "execution_count": 10,
     "metadata": {},
     "output_type": "execute_result"
    }
   ],
   "source": [
    "fenzu"
   ]
  },
  {
   "cell_type": "code",
   "execution_count": 3,
   "metadata": {
    "ExecuteTime": {
     "end_time": "2019-04-01T12:11:35.952809Z",
     "start_time": "2019-04-01T12:11:35.909809Z"
    }
   },
   "outputs": [
    {
     "name": "stdout",
     "output_type": "stream",
     "text": [
      "[0 1 2 0 3 2 5 1 0 0 0 1 3 3 2 0 0 2 0 0 0 1 3 1 1 3 1 1 1 0 3 0 0 0 0 0 0\n",
      " 0 0 0 0 0 0 0 0 0 1 2 4 1 3 3 1 6 1 1 4 2 1 4 3 7 3 7 4 5 3 1 4 0 4 2 6 7\n",
      " 6 4 3 1 2 0 2 0 6 2 4 1 1 1 2 2 5]\n",
      "IntervalIndex([[0, 500), [500, 1000), [1000, 1500), [1500, 2000), [2000, 2500), [2500, 3000), [3000, 3500), [3500, 4000)]\n",
      "              closed='left',\n",
      "              dtype='interval[int64]')\n",
      "CategoricalIndex([    [0, 500),  [500, 1000), [1000, 1500), [1500, 2000),\n",
      "                  [2000, 2500), [2500, 3000), [3000, 3500), [3500, 4000)],\n",
      "                 categories=[[0, 500), [500, 1000), [1000, 1500), [1500, 2000), [2000, 2500), [2500, 3000), [3000, 3500), [3500, 4000)], ordered=True, dtype='category')\n"
     ]
    }
   ],
   "source": [
    "print(fenzu.codes)#标签\n",
    "print(fenzu.categories)#分组区间，长度8\n",
    "pinshu=fenzu.value_counts()#series,区间-个数\n",
    "print(pinshu.index)"
   ]
  },
  {
   "cell_type": "code",
   "execution_count": 7,
   "metadata": {
    "ExecuteTime": {
     "end_time": "2019-04-01T12:12:01.328809Z",
     "start_time": "2019-04-01T12:12:01.095809Z"
    }
   },
   "outputs": [
    {
     "data": {
      "text/plain": [
       "<matplotlib.axes._subplots.AxesSubplot at 0x9cd4668>"
      ]
     },
     "execution_count": 7,
     "metadata": {},
     "output_type": "execute_result"
    },
    {
     "data": {
      "image/png": "[encoded data removed]",
      "text/plain": [
       "<Figure size 432x288 with 1 Axes>"
      ]
     },
     "metadata": {},
     "output_type": "display_data"
    }
   ],
   "source": [
    "%matplotlib inline\n",
    "import matplotlib.pyplot as plt\n",
    "pinshu.plot(kind='bar')\n",
    "#plt.text(0,29,str(29))"
   ]
  },
  {
   "cell_type": "code",
   "execution_count": 5,
   "metadata": {
    "ExecuteTime": {
     "end_time": "2019-04-01T12:11:37.249809Z",
     "start_time": "2019-04-01T12:11:37.184809Z"
    },
    "collapsed": true
   },
   "outputs": [],
   "source": [
    "qujian=pd.cut(xse,fanwei,right=False)\n",
    "data['区间']=qujian.values\n",
    "data.groupby('区间').median()\n",
    "data.groupby('区间').mean()#每个区间平均数\n",
    " \n",
    "pinshu_df=pd.DataFrame(pinshu,columns=['频数'])\n",
    "pinshu_df['频率f']=pinshu_df / pinshu_df['频数'].sum()\n",
    "pinshu_df['频率%']=pinshu_df['频率f'].map(lambda x:'%.2f%%'%(x*100))\n",
    " \n",
    "pinshu_df['累计频率f']=pinshu_df['频率f'].cumsum()\n",
    "pinshu_df['累计频率%']=pinshu_df['累计频率f'].map(lambda x:'%.4f%%'%(x*100))"
   ]
  },
  {
   "cell_type": "code",
   "execution_count": 6,
   "metadata": {
    "ExecuteTime": {
     "end_time": "2019-04-01T12:11:39.273809Z",
     "start_time": "2019-04-01T12:11:39.245809Z"
    }
   },
   "outputs": [
    {
     "data": {
      "text/html": [
       "<div>\n",
       "<style scoped>\n",
       "    .dataframe tbody tr th:only-of-type {\n",
       "        vertical-align: middle;\n",
       "    }\n",
       "\n",
       "    .dataframe tbody tr th {\n",
       "        vertical-align: top;\n",
       "    }\n",
       "\n",
       "    .dataframe thead th {\n",
       "        text-align: right;\n",
       "    }\n",
       "</style>\n",
       "<table border=\"1\" class=\"dataframe\">\n",
       "  <thead>\n",
       "    <tr style=\"text-align: right;\">\n",
       "      <th></th>\n",
       "      <th>频数</th>\n",
       "      <th>频率f</th>\n",
       "      <th>频率%</th>\n",
       "      <th>累计频率f</th>\n",
       "      <th>累计频率%</th>\n",
       "    </tr>\n",
       "  </thead>\n",
       "  <tbody>\n",
       "    <tr>\n",
       "      <th>[0, 500)</th>\n",
       "      <td>29</td>\n",
       "      <td>0.318681</td>\n",
       "      <td>31.87%</td>\n",
       "      <td>0.318681</td>\n",
       "      <td>31.8681%</td>\n",
       "    </tr>\n",
       "    <tr>\n",
       "      <th>[500, 1000)</th>\n",
       "      <td>20</td>\n",
       "      <td>0.219780</td>\n",
       "      <td>21.98%</td>\n",
       "      <td>0.538462</td>\n",
       "      <td>53.8462%</td>\n",
       "    </tr>\n",
       "    <tr>\n",
       "      <th>[1000, 1500)</th>\n",
       "      <td>12</td>\n",
       "      <td>0.131868</td>\n",
       "      <td>13.19%</td>\n",
       "      <td>0.670330</td>\n",
       "      <td>67.0330%</td>\n",
       "    </tr>\n",
       "    <tr>\n",
       "      <th>[1500, 2000)</th>\n",
       "      <td>12</td>\n",
       "      <td>0.131868</td>\n",
       "      <td>13.19%</td>\n",
       "      <td>0.802198</td>\n",
       "      <td>80.2198%</td>\n",
       "    </tr>\n",
       "    <tr>\n",
       "      <th>[2000, 2500)</th>\n",
       "      <td>8</td>\n",
       "      <td>0.087912</td>\n",
       "      <td>8.79%</td>\n",
       "      <td>0.890110</td>\n",
       "      <td>89.0110%</td>\n",
       "    </tr>\n",
       "    <tr>\n",
       "      <th>[2500, 3000)</th>\n",
       "      <td>3</td>\n",
       "      <td>0.032967</td>\n",
       "      <td>3.30%</td>\n",
       "      <td>0.923077</td>\n",
       "      <td>92.3077%</td>\n",
       "    </tr>\n",
       "    <tr>\n",
       "      <th>[3000, 3500)</th>\n",
       "      <td>4</td>\n",
       "      <td>0.043956</td>\n",
       "      <td>4.40%</td>\n",
       "      <td>0.967033</td>\n",
       "      <td>96.7033%</td>\n",
       "    </tr>\n",
       "    <tr>\n",
       "      <th>[3500, 4000)</th>\n",
       "      <td>3</td>\n",
       "      <td>0.032967</td>\n",
       "      <td>3.30%</td>\n",
       "      <td>1.000000</td>\n",
       "      <td>100.0000%</td>\n",
       "    </tr>\n",
       "  </tbody>\n",
       "</table>\n",
       "</div>"
      ],
      "text/plain": [
       "              频数       频率f     频率%     累计频率f      累计频率%\n",
       "[0, 500)      29  0.318681  31.87%  0.318681   31.8681%\n",
       "[500, 1000)   20  0.219780  21.98%  0.538462   53.8462%\n",
       "[1000, 1500)  12  0.131868  13.19%  0.670330   67.0330%\n",
       "[1500, 2000)  12  0.131868  13.19%  0.802198   80.2198%\n",
       "[2000, 2500)   8  0.087912   8.79%  0.890110   89.0110%\n",
       "[2500, 3000)   3  0.032967   3.30%  0.923077   92.3077%\n",
       "[3000, 3500)   4  0.043956   4.40%  0.967033   96.7033%\n",
       "[3500, 4000)   3  0.032967   3.30%  1.000000  100.0000%"
      ]
     },
     "execution_count": 6,
     "metadata": {},
     "output_type": "execute_result"
    }
   ],
   "source": [
    " \n",
    "pinshu_df"
   ]
  },
  {
   "cell_type": "code",
   "execution_count": 12,
   "metadata": {
    "ExecuteTime": {
     "end_time": "2019-04-01T12:32:12.904809Z",
     "start_time": "2019-04-01T12:32:12.869809Z"
    },
    "collapsed": true
   },
   "outputs": [],
   "source": [
    "pinshu_df.to_html('区间统计.html')"
   ]
  },
  {
   "cell_type": "code",
   "execution_count": null,
   "metadata": {
    "collapsed": true
   },
   "outputs": [],
   "source": []
  },
  {
   "cell_type": "code",
   "execution_count": null,
   "metadata": {
    "collapsed": true
   },
   "outputs": [],
   "source": []
  },
  {
   "cell_type": "code",
   "execution_count": null,
   "metadata": {
    "collapsed": true
   },
   "outputs": [],
   "source": []
  }
 ],
 "metadata": {
  "kernelspec": {
   "display_name": "Python 3",
   "language": "python",
   "name": "python3"
  },
  "language_info": {
   "codemirror_mode": {
    "name": "ipython",
    "version": 3
   },
   "file_extension": ".py",
   "mimetype": "text/x-python",
   "name": "python",
   "nbconvert_exporter": "python",
   "pygments_lexer": "ipython3",
   "version": "3.6.2"
  },
  "toc": {
   "base_numbering": 1,
   "nav_menu": {},
   "number_sections": true,
   "sideBar": true,
   "skip_h1_title": false,
   "title_cell": "Table of Contents",
   "title_sidebar": "Contents",
   "toc_cell": false,
   "toc_position": {},
   "toc_section_display": true,
   "toc_window_display": false
  },
  "varInspector": {
   "cols": {
    "lenName": 16,
    "lenType": 16,
    "lenVar": 40
   },
   "kernels_config": {
    "python": {
     "delete_cmd_postfix": "",
     "delete_cmd_prefix": "del ",
     "library": "var_list.py",
     "varRefreshCmd": "print(var_dic_list())"
    },
    "r": {
     "delete_cmd_postfix": ") ",
     "delete_cmd_prefix": "rm(",
     "library": "var_list.r",
     "varRefreshCmd": "cat(var_dic_list()) "
    }
   },
   "types_to_exclude": [
    "module",
    "function",
    "builtin_function_or_method",
    "instance",
    "_Feature"
   ],
   "window_display": false
  }
 },
 "nbformat": 4,
 "nbformat_minor": 2
}
